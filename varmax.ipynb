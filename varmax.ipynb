{
 "cells": [
  {
   "cell_type": "code",
   "execution_count": 53,
   "metadata": {},
   "outputs": [],
   "source": [
    "import pandas as pd\n",
    "from matplotlib import pyplot as plt\n",
    "from pandas.plotting import autocorrelation_plot\n",
    "from statsmodels.tsa.stattools import adfuller\n",
    "from statsmodels.graphics.tsaplots import plot_acf, plot_pacf\n",
    "import statsmodels.api as sm\n",
    "\n",
    "import warnings\n",
    "from statsmodels.tsa.arima.model import ARIMA\n",
    "from sklearn.metrics import mean_squared_error\n",
    "\n",
    "from data_import import *\n",
    "from modeling_prep import *"
   ]
  },
  {
   "cell_type": "markdown",
   "metadata": {},
   "source": [
    "##### Data Import"
   ]
  },
  {
   "cell_type": "code",
   "execution_count": 2,
   "metadata": {},
   "outputs": [
    {
     "name": "stderr",
     "output_type": "stream",
     "text": [
      "file import: 100%|██████████| 3/3 [00:01<00:00,  2.74it/s]\n"
     ]
    }
   ],
   "source": [
    "oregon_data_dict = oregon_import(float_32=True)"
   ]
  },
  {
   "cell_type": "code",
   "execution_count": 39,
   "metadata": {},
   "outputs": [
    {
     "name": "stderr",
     "output_type": "stream",
     "text": [
      "processing dfs: 100%|██████████| 3/3 [00:00<00:00, 12.22it/s]\n"
     ]
    }
   ],
   "source": [
    "wa_dict = single_oregon_county(oregon_data_dict, 41067)"
   ]
  },
  {
   "cell_type": "markdown",
   "metadata": {},
   "source": [
    "##### Examining data suitability for VARMAX\n",
    "\n",
    "Verifying stationarity of data"
   ]
  },
  {
   "cell_type": "code",
   "execution_count": 8,
   "metadata": {},
   "outputs": [
    {
     "name": "stdout",
     "output_type": "stream",
     "text": [
      "ADF Statistic: -5.508469601022172\n",
      "p-value: 1.9969356496943797e-06\n"
     ]
    }
   ],
   "source": [
    "#looking at one county in particular\n",
    "\n",
    "wa_df = oregon_data_dict['train_timeseries'].copy()\n",
    "wa_df = wa_df[wa_df['fips']==41067]\n",
    "wa_df.drop(columns=['fips'],inplace=True)\n",
    "wa_df = wa_df.iloc[4:,:]\n",
    "wa_df = wa_df.iloc[:-4,:]\n",
    "wa_df['date'] = wa_df['date'].map(pd.Timestamp.timestamp)\n",
    "wa_df.reset_index(inplace=True,drop=True)\n",
    "wa_county_score_list = wa_df['score'].dropna().copy()\n",
    "\n",
    "\n",
    "result = adfuller(wa_county_score_list)\n",
    "print('ADF Statistic:', result[0])\n",
    "print('p-value:', result[1])"
   ]
  },
  {
   "cell_type": "code",
   "execution_count": 7,
   "metadata": {},
   "outputs": [
    {
     "name": "stdout",
     "output_type": "stream",
     "text": [
      "ADF Statistic: -15.628872219809024\n",
      "p-value: 1.695245873408861e-28\n"
     ]
    }
   ],
   "source": [
    "oregon_df = oregon_data_dict['train_timeseries'].copy()\n",
    "oregon_score_list = oregon_df['score'].dropna().copy()\n",
    "\n",
    "result = adfuller(oregon_score_list)\n",
    "print('ADF Statistic:', result[0])\n",
    "print('p-value:', result[1])"
   ]
  },
  {
   "cell_type": "markdown",
   "metadata": {},
   "source": [
    "##### VARMAX"
   ]
  },
  {
   "cell_type": "code",
   "execution_count": 55,
   "metadata": {},
   "outputs": [],
   "source": [
    "train_copy = oregon_data_dict['train_timeseries'].copy()\n",
    "train_copy.dropna(subset=['score'], how='all', inplace=True)"
   ]
  },
  {
   "cell_type": "code",
   "execution_count": 56,
   "metadata": {},
   "outputs": [],
   "source": [
    "train_data = pd.read_csv('.\\processed_data\\oregon_train_timeseries.csv',header=0, index_col=1)\n",
    "\n",
    "split_data_dict = train_test_split_default(train_data)"
   ]
  },
  {
   "cell_type": "code",
   "execution_count": 57,
   "metadata": {},
   "outputs": [],
   "source": [
    "train_df = train_data.copy()\n",
    "train_df.index = pd.DatetimeIndex(train_df.index).to_period('M')"
   ]
  },
  {
   "cell_type": "code",
   "execution_count": 74,
   "metadata": {},
   "outputs": [],
   "source": [
    "train_data = pd.read_csv('.\\processed_data\\oregon_train_timeseries.csv',header=0, index_col=1)\n",
    "train_data.index = pd.DatetimeIndex(train_data.index).to_period('M')\n",
    "train_data = train_data[train_data['fips']==41067]\n",
    "train_data.drop(columns=['fips'], inplace=True)\n",
    "train_data.dropna(subset=['score'], how='all', inplace=True)"
   ]
  },
  {
   "cell_type": "code",
   "execution_count": 72,
   "metadata": {},
   "outputs": [
    {
     "data": {
      "text/plain": [
       "19"
      ]
     },
     "execution_count": 72,
     "metadata": {},
     "output_type": "execute_result"
    }
   ],
   "source": [
    "len(train_data.iloc[:,train_data.columns != 'split'].columns)"
   ]
  },
  {
   "cell_type": "code",
   "execution_count": 22,
   "metadata": {},
   "outputs": [
    {
     "data": {
      "text/plain": [
       "array([[0.],\n",
       "       [0.],\n",
       "       [0.],\n",
       "       ...,\n",
       "       [0.],\n",
       "       [0.],\n",
       "       [0.]])"
      ]
     },
     "execution_count": 22,
     "metadata": {},
     "output_type": "execute_result"
    }
   ],
   "source": [
    "train_data['score'].values.reshape(-1,1)"
   ]
  },
  {
   "cell_type": "code",
   "execution_count": 75,
   "metadata": {},
   "outputs": [
    {
     "ename": "LinAlgError",
     "evalue": "2-th leading minor of the array is not positive definite",
     "output_type": "error",
     "traceback": [
      "\u001b[1;31m---------------------------------------------------------------------------\u001b[0m",
      "\u001b[1;31mLinAlgError\u001b[0m                               Traceback (most recent call last)",
      "Cell \u001b[1;32mIn[75], line 3\u001b[0m\n\u001b[0;32m      1\u001b[0m endog \u001b[38;5;241m=\u001b[39m train_data\u001b[38;5;241m.\u001b[39miloc[:,train_data\u001b[38;5;241m.\u001b[39mcolumns \u001b[38;5;241m!=\u001b[39m \u001b[38;5;124m'\u001b[39m\u001b[38;5;124msplit\u001b[39m\u001b[38;5;124m'\u001b[39m]\u001b[38;5;241m.\u001b[39mcopy()\n\u001b[0;32m      2\u001b[0m mod \u001b[38;5;241m=\u001b[39m sm\u001b[38;5;241m.\u001b[39mtsa\u001b[38;5;241m.\u001b[39mVARMAX(endog \u001b[38;5;241m=\u001b[39m endog, order\u001b[38;5;241m=\u001b[39m(\u001b[38;5;241m2\u001b[39m,\u001b[38;5;241m0\u001b[39m), trend\u001b[38;5;241m=\u001b[39m\u001b[38;5;124m'\u001b[39m\u001b[38;5;124mn\u001b[39m\u001b[38;5;124m'\u001b[39m, exog\u001b[38;5;241m=\u001b[39mtrain_data[\u001b[38;5;124m'\u001b[39m\u001b[38;5;124mscore\u001b[39m\u001b[38;5;124m'\u001b[39m]\u001b[38;5;241m.\u001b[39mvalues\u001b[38;5;241m.\u001b[39mreshape(\u001b[38;5;241m-\u001b[39m\u001b[38;5;241m1\u001b[39m,\u001b[38;5;241m1\u001b[39m))\n\u001b[1;32m----> 3\u001b[0m res \u001b[38;5;241m=\u001b[39m \u001b[43mmod\u001b[49m\u001b[38;5;241;43m.\u001b[39;49m\u001b[43mfit\u001b[49m\u001b[43m(\u001b[49m\u001b[43mmaxiter\u001b[49m\u001b[38;5;241;43m=\u001b[39;49m\u001b[38;5;241;43m1000\u001b[39;49m\u001b[43m,\u001b[49m\u001b[43m \u001b[49m\u001b[43mdisp\u001b[49m\u001b[38;5;241;43m=\u001b[39;49m\u001b[38;5;28;43;01mFalse\u001b[39;49;00m\u001b[43m)\u001b[49m\n\u001b[0;32m      4\u001b[0m \u001b[38;5;28mprint\u001b[39m(res\u001b[38;5;241m.\u001b[39msummary())\n",
      "File \u001b[1;32mc:\\Users\\pears\\AppData\\Local\\Programs\\Python\\Python310\\lib\\site-packages\\statsmodels\\tsa\\statespace\\mlemodel.py:675\u001b[0m, in \u001b[0;36mMLEModel.fit\u001b[1;34m(self, start_params, transformed, includes_fixed, cov_type, cov_kwds, method, maxiter, full_output, disp, callback, return_params, optim_score, optim_complex_step, optim_hessian, flags, low_memory, **kwargs)\u001b[0m\n\u001b[0;32m    673\u001b[0m \u001b[38;5;66;03m# Unconstrain the starting parameters\u001b[39;00m\n\u001b[0;32m    674\u001b[0m \u001b[38;5;28;01mif\u001b[39;00m transformed:\n\u001b[1;32m--> 675\u001b[0m     start_params \u001b[38;5;241m=\u001b[39m \u001b[38;5;28;43mself\u001b[39;49m\u001b[38;5;241;43m.\u001b[39;49m\u001b[43muntransform_params\u001b[49m\u001b[43m(\u001b[49m\u001b[43mstart_params\u001b[49m\u001b[43m)\u001b[49m\n\u001b[0;32m    677\u001b[0m \u001b[38;5;66;03m# Remove any fixed parameters\u001b[39;00m\n\u001b[0;32m    678\u001b[0m \u001b[38;5;28;01mif\u001b[39;00m \u001b[38;5;28mself\u001b[39m\u001b[38;5;241m.\u001b[39m_has_fixed_params:\n",
      "File \u001b[1;32mc:\\Users\\pears\\AppData\\Local\\Programs\\Python\\Python310\\lib\\site-packages\\statsmodels\\tsa\\statespace\\varmax.py:632\u001b[0m, in \u001b[0;36mVARMAX.untransform_params\u001b[1;34m(self, constrained)\u001b[0m\n\u001b[0;32m    628\u001b[0m     \u001b[38;5;66;03m# Transform the parameters\u001b[39;00m\n\u001b[0;32m    629\u001b[0m     coefficients \u001b[38;5;241m=\u001b[39m constrained[\u001b[38;5;28mself\u001b[39m\u001b[38;5;241m.\u001b[39m_params_ar]\u001b[38;5;241m.\u001b[39mreshape(\n\u001b[0;32m    630\u001b[0m         \u001b[38;5;28mself\u001b[39m\u001b[38;5;241m.\u001b[39mk_endog, \u001b[38;5;28mself\u001b[39m\u001b[38;5;241m.\u001b[39mk_endog \u001b[38;5;241m*\u001b[39m \u001b[38;5;28mself\u001b[39m\u001b[38;5;241m.\u001b[39mk_ar)\n\u001b[0;32m    631\u001b[0m     unconstrained_matrices, variance \u001b[38;5;241m=\u001b[39m (\n\u001b[1;32m--> 632\u001b[0m         \u001b[43munconstrain_stationary_multivariate\u001b[49m\u001b[43m(\u001b[49m\u001b[43mcoefficients\u001b[49m\u001b[43m,\u001b[49m\u001b[43m \u001b[49m\u001b[43mstate_cov\u001b[49m\u001b[43m)\u001b[49m)\n\u001b[0;32m    633\u001b[0m     unconstrained[\u001b[38;5;28mself\u001b[39m\u001b[38;5;241m.\u001b[39m_params_ar] \u001b[38;5;241m=\u001b[39m unconstrained_matrices\u001b[38;5;241m.\u001b[39mravel()\n\u001b[0;32m    634\u001b[0m \u001b[38;5;28;01melse\u001b[39;00m:\n",
      "File \u001b[1;32mc:\\Users\\pears\\AppData\\Local\\Programs\\Python\\Python310\\lib\\site-packages\\statsmodels\\tsa\\statespace\\tools.py:1433\u001b[0m, in \u001b[0;36munconstrain_stationary_multivariate\u001b[1;34m(constrained, error_variance)\u001b[0m\n\u001b[0;32m   1428\u001b[0m     k_endog \u001b[38;5;241m=\u001b[39m constrained[\u001b[38;5;241m0\u001b[39m]\u001b[38;5;241m.\u001b[39mshape[\u001b[38;5;241m0\u001b[39m]\n\u001b[0;32m   1430\u001b[0m \u001b[38;5;66;03m# Step 1: convert matrices from the space of stationary\u001b[39;00m\n\u001b[0;32m   1431\u001b[0m \u001b[38;5;66;03m# coefficient matrices to our \"partial autocorrelation matrix\" space\u001b[39;00m\n\u001b[0;32m   1432\u001b[0m \u001b[38;5;66;03m# (matrices with singular values less than one)\u001b[39;00m\n\u001b[1;32m-> 1433\u001b[0m partial_autocorrelations \u001b[38;5;241m=\u001b[39m \u001b[43m_compute_multivariate_pacf_from_coefficients\u001b[49m\u001b[43m(\u001b[49m\n\u001b[0;32m   1434\u001b[0m \u001b[43m    \u001b[49m\u001b[43mconstrained\u001b[49m\u001b[43m,\u001b[49m\u001b[43m \u001b[49m\u001b[43merror_variance\u001b[49m\u001b[43m,\u001b[49m\u001b[43m \u001b[49m\u001b[43morder\u001b[49m\u001b[43m,\u001b[49m\u001b[43m \u001b[49m\u001b[43mk_endog\u001b[49m\u001b[43m)\u001b[49m\n\u001b[0;32m   1436\u001b[0m \u001b[38;5;66;03m# Step 2: convert from arbitrary matrices to those with singular values\u001b[39;00m\n\u001b[0;32m   1437\u001b[0m \u001b[38;5;66;03m# less than one.\u001b[39;00m\n\u001b[0;32m   1438\u001b[0m unconstrained \u001b[38;5;241m=\u001b[39m _unconstrain_sv_less_than_one(\n\u001b[0;32m   1439\u001b[0m     partial_autocorrelations, order, k_endog)\n",
      "File \u001b[1;32mc:\\Users\\pears\\AppData\\Local\\Programs\\Python\\Python310\\lib\\site-packages\\statsmodels\\tsa\\statespace\\tools.py:1376\u001b[0m, in \u001b[0;36m_compute_multivariate_pacf_from_coefficients\u001b[1;34m(constrained, error_variance, order, k_endog)\u001b[0m\n\u001b[0;32m   1370\u001b[0m _acovf \u001b[38;5;241m=\u001b[39m _compute_multivariate_acovf_from_coefficients\n\u001b[0;32m   1372\u001b[0m autocovariances \u001b[38;5;241m=\u001b[39m [\n\u001b[0;32m   1373\u001b[0m     autocovariance\u001b[38;5;241m.\u001b[39mT \u001b[38;5;28;01mfor\u001b[39;00m autocovariance \u001b[38;5;129;01min\u001b[39;00m\n\u001b[0;32m   1374\u001b[0m     _acovf(constrained, error_variance, maxlag\u001b[38;5;241m=\u001b[39morder)]\n\u001b[1;32m-> 1376\u001b[0m \u001b[38;5;28;01mreturn\u001b[39;00m \u001b[43m_compute_multivariate_pacf_from_autocovariances\u001b[49m\u001b[43m(\u001b[49m\u001b[43mautocovariances\u001b[49m\u001b[43m)\u001b[49m\n",
      "File \u001b[1;32mc:\\Users\\pears\\AppData\\Local\\Programs\\Python\\Python310\\lib\\site-packages\\statsmodels\\tsa\\statespace\\tools.py:1251\u001b[0m, in \u001b[0;36m_compute_multivariate_pacf_from_autocovariances\u001b[1;34m(autocovariances, order, k_endog)\u001b[0m\n\u001b[0;32m   1247\u001b[0m backward_variances\u001b[38;5;241m.\u001b[39mappend(backward_variance)\n\u001b[0;32m   1249\u001b[0m \u001b[38;5;66;03m# Cholesky factors\u001b[39;00m\n\u001b[0;32m   1250\u001b[0m forward_factors\u001b[38;5;241m.\u001b[39mappend(\n\u001b[1;32m-> 1251\u001b[0m     \u001b[43mlinalg\u001b[49m\u001b[38;5;241;43m.\u001b[39;49m\u001b[43mcholesky\u001b[49m\u001b[43m(\u001b[49m\u001b[43mforward_variances\u001b[49m\u001b[43m[\u001b[49m\u001b[43ms\u001b[49m\u001b[43m]\u001b[49m\u001b[43m,\u001b[49m\u001b[43m \u001b[49m\u001b[43mlower\u001b[49m\u001b[38;5;241;43m=\u001b[39;49m\u001b[38;5;28;43;01mTrue\u001b[39;49;00m\u001b[43m)\u001b[49m\n\u001b[0;32m   1252\u001b[0m )\n\u001b[0;32m   1253\u001b[0m backward_factors\u001b[38;5;241m.\u001b[39mappend(\n\u001b[0;32m   1254\u001b[0m     linalg\u001b[38;5;241m.\u001b[39mcholesky(backward_variances[s], lower\u001b[38;5;241m=\u001b[39m\u001b[38;5;28;01mTrue\u001b[39;00m)\n\u001b[0;32m   1255\u001b[0m )\n\u001b[0;32m   1257\u001b[0m \u001b[38;5;66;03m# Create the intermediate sum term\u001b[39;00m\n",
      "File \u001b[1;32mc:\\Users\\pears\\AppData\\Local\\Programs\\Python\\Python310\\lib\\site-packages\\scipy\\linalg\\_decomp_cholesky.py:88\u001b[0m, in \u001b[0;36mcholesky\u001b[1;34m(a, lower, overwrite_a, check_finite)\u001b[0m\n\u001b[0;32m     44\u001b[0m \u001b[38;5;28;01mdef\u001b[39;00m \u001b[38;5;21mcholesky\u001b[39m(a, lower\u001b[38;5;241m=\u001b[39m\u001b[38;5;28;01mFalse\u001b[39;00m, overwrite_a\u001b[38;5;241m=\u001b[39m\u001b[38;5;28;01mFalse\u001b[39;00m, check_finite\u001b[38;5;241m=\u001b[39m\u001b[38;5;28;01mTrue\u001b[39;00m):\n\u001b[0;32m     45\u001b[0m \u001b[38;5;250m    \u001b[39m\u001b[38;5;124;03m\"\"\"\u001b[39;00m\n\u001b[0;32m     46\u001b[0m \u001b[38;5;124;03m    Compute the Cholesky decomposition of a matrix.\u001b[39;00m\n\u001b[0;32m     47\u001b[0m \n\u001b[1;32m   (...)\u001b[0m\n\u001b[0;32m     86\u001b[0m \n\u001b[0;32m     87\u001b[0m \u001b[38;5;124;03m    \"\"\"\u001b[39;00m\n\u001b[1;32m---> 88\u001b[0m     c, lower \u001b[38;5;241m=\u001b[39m \u001b[43m_cholesky\u001b[49m\u001b[43m(\u001b[49m\u001b[43ma\u001b[49m\u001b[43m,\u001b[49m\u001b[43m \u001b[49m\u001b[43mlower\u001b[49m\u001b[38;5;241;43m=\u001b[39;49m\u001b[43mlower\u001b[49m\u001b[43m,\u001b[49m\u001b[43m \u001b[49m\u001b[43moverwrite_a\u001b[49m\u001b[38;5;241;43m=\u001b[39;49m\u001b[43moverwrite_a\u001b[49m\u001b[43m,\u001b[49m\u001b[43m \u001b[49m\u001b[43mclean\u001b[49m\u001b[38;5;241;43m=\u001b[39;49m\u001b[38;5;28;43;01mTrue\u001b[39;49;00m\u001b[43m,\u001b[49m\n\u001b[0;32m     89\u001b[0m \u001b[43m                         \u001b[49m\u001b[43mcheck_finite\u001b[49m\u001b[38;5;241;43m=\u001b[39;49m\u001b[43mcheck_finite\u001b[49m\u001b[43m)\u001b[49m\n\u001b[0;32m     90\u001b[0m     \u001b[38;5;28;01mreturn\u001b[39;00m c\n",
      "File \u001b[1;32mc:\\Users\\pears\\AppData\\Local\\Programs\\Python\\Python310\\lib\\site-packages\\scipy\\linalg\\_decomp_cholesky.py:36\u001b[0m, in \u001b[0;36m_cholesky\u001b[1;34m(a, lower, overwrite_a, clean, check_finite)\u001b[0m\n\u001b[0;32m     34\u001b[0m c, info \u001b[38;5;241m=\u001b[39m potrf(a1, lower\u001b[38;5;241m=\u001b[39mlower, overwrite_a\u001b[38;5;241m=\u001b[39moverwrite_a, clean\u001b[38;5;241m=\u001b[39mclean)\n\u001b[0;32m     35\u001b[0m \u001b[38;5;28;01mif\u001b[39;00m info \u001b[38;5;241m>\u001b[39m \u001b[38;5;241m0\u001b[39m:\n\u001b[1;32m---> 36\u001b[0m     \u001b[38;5;28;01mraise\u001b[39;00m LinAlgError(\u001b[38;5;124m\"\u001b[39m\u001b[38;5;132;01m%d\u001b[39;00m\u001b[38;5;124m-th leading minor of the array is not positive \u001b[39m\u001b[38;5;124m\"\u001b[39m\n\u001b[0;32m     37\u001b[0m                       \u001b[38;5;124m\"\u001b[39m\u001b[38;5;124mdefinite\u001b[39m\u001b[38;5;124m\"\u001b[39m \u001b[38;5;241m%\u001b[39m info)\n\u001b[0;32m     38\u001b[0m \u001b[38;5;28;01mif\u001b[39;00m info \u001b[38;5;241m<\u001b[39m \u001b[38;5;241m0\u001b[39m:\n\u001b[0;32m     39\u001b[0m     \u001b[38;5;28;01mraise\u001b[39;00m \u001b[38;5;167;01mValueError\u001b[39;00m(\u001b[38;5;124mf\u001b[39m\u001b[38;5;124m'\u001b[39m\u001b[38;5;124mLAPACK reported an illegal value in \u001b[39m\u001b[38;5;132;01m{\u001b[39;00m\u001b[38;5;241m-\u001b[39minfo\u001b[38;5;132;01m}\u001b[39;00m\u001b[38;5;124m-th argument\u001b[39m\u001b[38;5;124m'\u001b[39m\n\u001b[0;32m     40\u001b[0m                      \u001b[38;5;124m'\u001b[39m\u001b[38;5;124mon entry to \u001b[39m\u001b[38;5;124m\"\u001b[39m\u001b[38;5;124mPOTRF\u001b[39m\u001b[38;5;124m\"\u001b[39m\u001b[38;5;124m.\u001b[39m\u001b[38;5;124m'\u001b[39m)\n",
      "\u001b[1;31mLinAlgError\u001b[0m: 2-th leading minor of the array is not positive definite"
     ]
    }
   ],
   "source": [
    "endog = train_data.iloc[:,train_data.columns != 'split'].copy()\n",
    "mod = sm.tsa.VARMAX(endog = endog, order=(2,0), trend='n', exog=train_data['score'].values.reshape(-1,1))\n",
    "res = mod.fit(maxiter=1000, disp=False)\n",
    "print(res.summary())"
   ]
  },
  {
   "cell_type": "code",
   "execution_count": null,
   "metadata": {},
   "outputs": [
    {
     "data": {
      "image/png": "[encoded data removed]",
      "text/plain": [
       "<Figure size 1600x400 with 2 Axes>"
      ]
     },
     "metadata": {},
     "output_type": "display_data"
    }
   ],
   "source": [
    "score = train_data['score'].values.reshape(-1,1)\n",
    "\n",
    "# Plot ACF and PACF for the differenced series\n",
    "fig, axes = plt.subplots(1, 2, figsize=(16, 4))\n",
    "\n",
    "# ACF plot\n",
    "plot_acf(score, lags=40, ax=axes[0])\n",
    "axes[0].set_title('Autocorrelation Function (ACF)')\n",
    "\n",
    "# PACF plot\n",
    "plot_pacf(score, lags=40, ax=axes[1])\n",
    "axes[1].set_title('Partial Autocorrelation Function (PACF)')\n",
    "\n",
    "plt.tight_layout()\n",
    "plt.show()"
   ]
  },
  {
   "cell_type": "code",
   "execution_count": 31,
   "metadata": {},
   "outputs": [],
   "source": [
    "train_df = train_data.copy()\n",
    "train_df.index = pd.DatetimeIndex(train_df.index).to_period('M')"
   ]
  },
  {
   "cell_type": "markdown",
   "metadata": {},
   "source": [
    "##### Divider"
   ]
  },
  {
   "cell_type": "code",
   "execution_count": null,
   "metadata": {},
   "outputs": [],
   "source": [
    "# evaluate an ARIMA model for a given order (p,d,q)\n",
    "def evaluate_arima_model(X, arima_order):\n",
    "\t# prepare training dataset\n",
    "\ttrain_size = int(len(X) * 0.66)\n",
    "\ttrain, test = X[0:train_size], X[train_size:]\n",
    "\thistory = [x for x in train]\n",
    "\t# make predictions\n",
    "\tpredictions = list()\n",
    "\tfor t in range(len(test)):\n",
    "\t\tmodel = ARIMA(history, order=arima_order)\n",
    "\t\tmodel_fit = model.fit()\n",
    "\t\ty_hat = model_fit.forecast()[0]\n",
    "\t\tpredictions.append(y_hat)\n",
    "\t\thistory.append(test[t])\n",
    "\t# calculate out of sample error\n",
    "\trmse = np.sqrt(mean_squared_error(test, predictions))\n",
    "\treturn rmse\n",
    "\n",
    "# evaluate combinations of p, d and q values for an ARIMA model\n",
    "def evaluate_models(dataset, p_values, d_values, q_values):\n",
    "\t# dataset = dataset.astype('float32')\n",
    "\tbest_score, best_cfg = float(\"inf\"), None\n",
    "\tfor p in p_values:\n",
    "\t\tfor d in d_values:\n",
    "\t\t\tfor q in q_values:\n",
    "\t\t\t\torder = (p,d,q)\n",
    "\t\t\t\t# try:\n",
    "\t\t\t\trmse = evaluate_arima_model(dataset, order)\n",
    "\t\t\t\tif rmse < best_score:\n",
    "\t\t\t\t\tbest_score, best_cfg = rmse, order\n",
    "\t\t\t\tprint('ARIMA%s RMSE=%.3f' % (order,rmse))\n",
    "\t\t\t\t# except:\n",
    "\t\t\t\t\t# continue\n",
    "\tprint('Best ARIMA %s RMSE = %.3f' % (best_cfg, best_score))\n",
    "\n",
    "\n",
    "# evaluate parameters\n",
    "p_values = [0, 1, 2, 4, 6, 8, 10]\n",
    "d_values = range(0, 3)\n",
    "q_values = range(0, 3)\n",
    "warnings.filterwarnings(\"ignore\")\n",
    "evaluate_models(train_data.values, p_values, d_values, q_values)"
   ]
  },
  {
   "cell_type": "markdown",
   "metadata": {},
   "source": [
    "##### Modeling"
   ]
  },
  {
   "cell_type": "code",
   "execution_count": null,
   "metadata": {},
   "outputs": [],
   "source": [
    "train_copy = oregon_data_dict['train_timeseries'].copy()\n",
    "train_copy.dropna(subset=['score'], how='all', inplace=True)"
   ]
  },
  {
   "cell_type": "markdown",
   "metadata": {},
   "source": [
    "##### Grid Search of ARIMA order values"
   ]
  },
  {
   "cell_type": "code",
   "execution_count": 3,
   "metadata": {},
   "outputs": [],
   "source": [
    "train_data = pd.read_csv('.\\processed_data\\oregon_train_timeseries.csv',header=0, index_col=1)\n",
    "\n",
    "split_data_dict = train_test_split_default(train_data)"
   ]
  },
  {
   "cell_type": "code",
   "execution_count": 59,
   "metadata": {},
   "outputs": [],
   "source": [
    "grouped_train_data = pd.read_csv('.\\processed_data\\oregon_train_timeseries.csv',header=0, index_col=1)\n",
    "\n",
    "split_county_data = county_grouped_shufflesplit(grouped_train_data)"
   ]
  },
  {
   "cell_type": "code",
   "execution_count": null,
   "metadata": {},
   "outputs": [
    {
     "ename": "AttributeError",
     "evalue": "'list' object has no attribute 'score'",
     "output_type": "error",
     "traceback": [
      "\u001b[1;31m---------------------------------------------------------------------------\u001b[0m",
      "\u001b[1;31mAttributeError\u001b[0m                            Traceback (most recent call last)",
      "Cell \u001b[1;32mIn[12], line 42\u001b[0m\n\u001b[0;32m     40\u001b[0m q_values \u001b[38;5;241m=\u001b[39m \u001b[38;5;28mrange\u001b[39m(\u001b[38;5;241m0\u001b[39m, \u001b[38;5;241m3\u001b[39m)\n\u001b[0;32m     41\u001b[0m warnings\u001b[38;5;241m.\u001b[39mfilterwarnings(\u001b[38;5;124m\"\u001b[39m\u001b[38;5;124mignore\u001b[39m\u001b[38;5;124m\"\u001b[39m)\n\u001b[1;32m---> 42\u001b[0m \u001b[43mevaluate_models\u001b[49m\u001b[43m(\u001b[49m\u001b[43mtrain_data\u001b[49m\u001b[38;5;241;43m.\u001b[39;49m\u001b[43mvalues\u001b[49m\u001b[43m,\u001b[49m\u001b[43m \u001b[49m\u001b[43mp_values\u001b[49m\u001b[43m,\u001b[49m\u001b[43m \u001b[49m\u001b[43md_values\u001b[49m\u001b[43m,\u001b[49m\u001b[43m \u001b[49m\u001b[43mq_values\u001b[49m\u001b[43m)\u001b[49m\n",
      "Cell \u001b[1;32mIn[12], line 28\u001b[0m, in \u001b[0;36mevaluate_models\u001b[1;34m(dataset, p_values, d_values, q_values)\u001b[0m\n\u001b[0;32m     26\u001b[0m order \u001b[38;5;241m=\u001b[39m (p,d,q)\n\u001b[0;32m     27\u001b[0m \u001b[38;5;66;03m# try:\u001b[39;00m\n\u001b[1;32m---> 28\u001b[0m rmse \u001b[38;5;241m=\u001b[39m \u001b[43mevaluate_arima_model\u001b[49m\u001b[43m(\u001b[49m\u001b[43mdataset\u001b[49m\u001b[43m,\u001b[49m\u001b[43m \u001b[49m\u001b[43morder\u001b[49m\u001b[43m)\u001b[49m\n\u001b[0;32m     29\u001b[0m \u001b[38;5;28;01mif\u001b[39;00m rmse \u001b[38;5;241m<\u001b[39m best_score:\n\u001b[0;32m     30\u001b[0m \tbest_score, best_cfg \u001b[38;5;241m=\u001b[39m rmse, order\n",
      "Cell \u001b[1;32mIn[12], line 10\u001b[0m, in \u001b[0;36mevaluate_arima_model\u001b[1;34m(X, arima_order)\u001b[0m\n\u001b[0;32m      8\u001b[0m predictions \u001b[38;5;241m=\u001b[39m \u001b[38;5;28mlist\u001b[39m()\n\u001b[0;32m      9\u001b[0m \u001b[38;5;28;01mfor\u001b[39;00m t \u001b[38;5;129;01min\u001b[39;00m \u001b[38;5;28mrange\u001b[39m(\u001b[38;5;28mlen\u001b[39m(test)):\n\u001b[1;32m---> 10\u001b[0m \tmodel \u001b[38;5;241m=\u001b[39m ARIMA(\u001b[43mhistory\u001b[49m\u001b[38;5;241;43m.\u001b[39;49m\u001b[43mscore\u001b[49m, order\u001b[38;5;241m=\u001b[39marima_order)\n\u001b[0;32m     11\u001b[0m \tmodel_fit \u001b[38;5;241m=\u001b[39m model\u001b[38;5;241m.\u001b[39mfit()\n\u001b[0;32m     12\u001b[0m \ty_hat \u001b[38;5;241m=\u001b[39m model_fit\u001b[38;5;241m.\u001b[39mforecast()[\u001b[38;5;241m0\u001b[39m]\n",
      "\u001b[1;31mAttributeError\u001b[0m: 'list' object has no attribute 'score'"
     ]
    }
   ],
   "source": [
    "# evaluate an ARIMA model for a given order (p,d,q)\n",
    "def evaluate_arima_model(X, arima_order):\n",
    "\t# prepare training dataset\n",
    "\ttrain_size = int(len(X) * 0.66)\n",
    "\ttrain, test = X[0:train_size], X[train_size:]\n",
    "\thistory = [x for x in train]\n",
    "\t# make predictions\n",
    "\tpredictions = list()\n",
    "\tfor t in range(len(test)):\n",
    "\t\tmodel = ARIMA(history, order=arima_order)\n",
    "\t\tmodel_fit = model.fit()\n",
    "\t\ty_hat = model_fit.forecast()[0]\n",
    "\t\tpredictions.append(y_hat)\n",
    "\t\thistory.append(test[t])\n",
    "\t# calculate out of sample error\n",
    "\trmse = np.sqrt(mean_squared_error(test, predictions))\n",
    "\treturn rmse\n",
    "\n",
    "# evaluate combinations of p, d and q values for an ARIMA model\n",
    "def evaluate_models(dataset, p_values, d_values, q_values):\n",
    "\t# dataset = dataset.astype('float32')\n",
    "\tbest_score, best_cfg = float(\"inf\"), None\n",
    "\tfor p in p_values:\n",
    "\t\tfor d in d_values:\n",
    "\t\t\tfor q in q_values:\n",
    "\t\t\t\torder = (p,d,q)\n",
    "\t\t\t\t# try:\n",
    "\t\t\t\trmse = evaluate_arima_model(dataset, order)\n",
    "\t\t\t\tif rmse < best_score:\n",
    "\t\t\t\t\tbest_score, best_cfg = rmse, order\n",
    "\t\t\t\tprint('ARIMA%s RMSE=%.3f' % (order,rmse))\n",
    "\t\t\t\t# except:\n",
    "\t\t\t\t\t# continue\n",
    "\tprint('Best ARIMA %s RMSE = %.3f' % (best_cfg, best_score))\n",
    "\n",
    "\n",
    "# evaluate parameters\n",
    "p_values = [0, 1, 2, 4, 6, 8, 10]\n",
    "d_values = range(0, 3)\n",
    "q_values = range(0, 3)\n",
    "warnings.filterwarnings(\"ignore\")\n",
    "evaluate_models(train_data.values, p_values, d_values, q_values)"
   ]
  }
 ],
 "metadata": {
  "kernelspec": {
   "display_name": "Python 3",
   "language": "python",
   "name": "python3"
  },
  "language_info": {
   "codemirror_mode": {
    "name": "ipython",
    "version": 3
   },
   "file_extension": ".py",
   "mimetype": "text/x-python",
   "name": "python",
   "nbconvert_exporter": "python",
   "pygments_lexer": "ipython3",
   "version": "3.10.11"
  }
 },
 "nbformat": 4,
 "nbformat_minor": 2
}
