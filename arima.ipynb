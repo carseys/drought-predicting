{
 "cells": [
  {
   "cell_type": "code",
   "execution_count": 1,
   "metadata": {},
   "outputs": [],
   "source": [
    "import pandas as pd\n",
    "from matplotlib import pyplot as plt\n",
    "from pandas.plotting import autocorrelation_plot\n",
    "\n",
    "from data_import import *"
   ]
  },
  {
   "cell_type": "code",
   "execution_count": 2,
   "metadata": {},
   "outputs": [
    {
     "name": "stderr",
     "output_type": "stream",
     "text": [
      "file import: 100%|██████████| 3/3 [00:02<00:00,  1.18it/s]\n"
     ]
    }
   ],
   "source": [
    "oregon_data_dict = oregon_import(float_32=False)"
   ]
  },
  {
   "cell_type": "code",
   "execution_count": 3,
   "metadata": {},
   "outputs": [],
   "source": [
    "# wa_df = oregon_data_dict['train_timeseries'].iloc[4:,:].reset_index(inplace=False, drop=True)\n",
    "wa_df = oregon_data_dict['train_timeseries'].copy()\n",
    "wa_df = wa_df[wa_df['fips']==41067]\n",
    "wa_df.drop(columns=['fips'],inplace=True)\n",
    "wa_df = wa_df.iloc[4:,:]\n",
    "wa_df = wa_df.iloc[:-4,:]\n",
    "wa_df['date'] = wa_df['date'].map(pd.Timestamp.timestamp)\n",
    "wa_df.reset_index(inplace=True,drop=True)"
   ]
  },
  {
   "cell_type": "code",
   "execution_count": null,
   "metadata": {},
   "outputs": [
    {
     "name": "stderr",
     "output_type": "stream",
     "text": [
      "C:\\Users\\pears\\AppData\\Local\\Temp\\ipykernel_21744\\304317978.py:4: UserWarning: Could not infer format, so each element will be parsed individually, falling back to `dateutil`. To ensure parsing is consistent and as-expected, please specify a format.\n",
      "  series = pd.read_csv('./processed_data/oregon_train_timeseries.csv', header=0, parse_dates=[0], index_col=0)\n"
     ]
    }
   ],
   "source": [
    "\n",
    "\n",
    "def parser(x):\n",
    "\treturn pd.Datetime.strptime('190'+x, '%Y-%m')\n",
    "\n",
    "series = pd.read_csv('./processed_data/oregon_train_timeseries.csv', header=0, parse_dates=[0], index_col=0, date_parser=parser)\n",
    "autocorrelation_plot(series)\n",
    "plt.show()"
   ]
  }
 ],
 "metadata": {
  "kernelspec": {
   "display_name": "Python 3",
   "language": "python",
   "name": "python3"
  },
  "language_info": {
   "codemirror_mode": {
    "name": "ipython",
    "version": 3
   },
   "file_extension": ".py",
   "mimetype": "text/x-python",
   "name": "python",
   "nbconvert_exporter": "python",
   "pygments_lexer": "ipython3",
   "version": "3.10.11"
  }
 },
 "nbformat": 4,
 "nbformat_minor": 2
}
